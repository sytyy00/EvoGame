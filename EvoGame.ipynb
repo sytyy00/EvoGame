{
  "nbformat": 4,
  "nbformat_minor": 0,
  "metadata": {
    "colab": {
      "name": "EvoGame.ipynb",
      "provenance": [],
      "collapsed_sections": []
    },
    "kernelspec": {
      "name": "python3",
      "display_name": "Python 3"
    },
    "accelerator": "GPU"
  },
  "cells": [
    {
      "cell_type": "markdown",
      "metadata": {
        "id": "M4mfhRw3zdCP",
        "colab_type": "text"
      },
      "source": [
        "# Test task completed by sytyy00@gmail.com (https://github.com/sytyy00)\n",
        "Colab - https://colab.research.google.com/drive/1zW9laU-T2yHg4XbgXjKaN6d5sjPcSbUM?usp=sharing\n"
      ]
    },
    {
      "cell_type": "code",
      "metadata": {
        "id": "5trAu8jOHtTa",
        "colab_type": "code",
        "outputId": "665ef768-971c-4439-d7a5-08367f044b5b",
        "colab": {
          "base_uri": "https://localhost:8080/",
          "height": 51
        }
      },
      "source": [
        "import pandas as pd\n",
        "import seaborn as sn\n",
        "import numpy as np\n",
        "import matplotlib.pyplot as plt\n",
        "\n",
        "from sklearn.model_selection import train_test_split\n",
        "from sklearn.metrics import mean_absolute_error, mean_squared_error\n",
        "from sklearn.linear_model import LinearRegression\n",
        "from sklearn.tree import ExtraTreeRegressor, plot_tree\n",
        "\n",
        "from tensorflow.keras.models import Sequential\n",
        "from tensorflow.keras.layers import Dense\n",
        "\n",
        "%matplotlib inline\n",
        "\n",
        "np.random.seed(42)"
      ],
      "execution_count": 0,
      "outputs": [
        {
          "output_type": "stream",
          "text": [
            "/usr/local/lib/python3.6/dist-packages/statsmodels/tools/_testing.py:19: FutureWarning: pandas.util.testing is deprecated. Use the functions in the public API at pandas.testing instead.\n",
            "  import pandas.util.testing as tm\n"
          ],
          "name": "stderr"
        }
      ]
    },
    {
      "cell_type": "markdown",
      "metadata": {
        "id": "enqUDct-zu9D",
        "colab_type": "text"
      },
      "source": [
        "#### Load Data"
      ]
    },
    {
      "cell_type": "code",
      "metadata": {
        "id": "lt0huJofHxXE",
        "colab_type": "code",
        "outputId": "1c3d89d6-60ea-465f-90b1-4322dbc8e37a",
        "colab": {
          "base_uri": "https://localhost:8080/",
          "height": 359
        }
      },
      "source": [
        "data = pd.read_csv('insurance.csv')\n",
        "data.head(10)"
      ],
      "execution_count": 0,
      "outputs": [
        {
          "output_type": "execute_result",
          "data": {
            "text/html": [
              "<div>\n",
              "<style scoped>\n",
              "    .dataframe tbody tr th:only-of-type {\n",
              "        vertical-align: middle;\n",
              "    }\n",
              "\n",
              "    .dataframe tbody tr th {\n",
              "        vertical-align: top;\n",
              "    }\n",
              "\n",
              "    .dataframe thead th {\n",
              "        text-align: right;\n",
              "    }\n",
              "</style>\n",
              "<table border=\"1\" class=\"dataframe\">\n",
              "  <thead>\n",
              "    <tr style=\"text-align: right;\">\n",
              "      <th></th>\n",
              "      <th>age</th>\n",
              "      <th>sex</th>\n",
              "      <th>bmi</th>\n",
              "      <th>children</th>\n",
              "      <th>smoker</th>\n",
              "      <th>region</th>\n",
              "      <th>charges</th>\n",
              "    </tr>\n",
              "  </thead>\n",
              "  <tbody>\n",
              "    <tr>\n",
              "      <th>0</th>\n",
              "      <td>19</td>\n",
              "      <td>female</td>\n",
              "      <td>27.900</td>\n",
              "      <td>0</td>\n",
              "      <td>yes</td>\n",
              "      <td>southwest</td>\n",
              "      <td>16884.92400</td>\n",
              "    </tr>\n",
              "    <tr>\n",
              "      <th>1</th>\n",
              "      <td>18</td>\n",
              "      <td>male</td>\n",
              "      <td>33.770</td>\n",
              "      <td>1</td>\n",
              "      <td>no</td>\n",
              "      <td>southeast</td>\n",
              "      <td>1725.55230</td>\n",
              "    </tr>\n",
              "    <tr>\n",
              "      <th>2</th>\n",
              "      <td>28</td>\n",
              "      <td>male</td>\n",
              "      <td>33.000</td>\n",
              "      <td>3</td>\n",
              "      <td>no</td>\n",
              "      <td>southeast</td>\n",
              "      <td>4449.46200</td>\n",
              "    </tr>\n",
              "    <tr>\n",
              "      <th>3</th>\n",
              "      <td>33</td>\n",
              "      <td>male</td>\n",
              "      <td>22.705</td>\n",
              "      <td>0</td>\n",
              "      <td>no</td>\n",
              "      <td>northwest</td>\n",
              "      <td>21984.47061</td>\n",
              "    </tr>\n",
              "    <tr>\n",
              "      <th>4</th>\n",
              "      <td>32</td>\n",
              "      <td>male</td>\n",
              "      <td>28.880</td>\n",
              "      <td>0</td>\n",
              "      <td>no</td>\n",
              "      <td>northwest</td>\n",
              "      <td>3866.85520</td>\n",
              "    </tr>\n",
              "    <tr>\n",
              "      <th>5</th>\n",
              "      <td>31</td>\n",
              "      <td>female</td>\n",
              "      <td>25.740</td>\n",
              "      <td>0</td>\n",
              "      <td>no</td>\n",
              "      <td>southeast</td>\n",
              "      <td>3756.62160</td>\n",
              "    </tr>\n",
              "    <tr>\n",
              "      <th>6</th>\n",
              "      <td>46</td>\n",
              "      <td>female</td>\n",
              "      <td>33.440</td>\n",
              "      <td>1</td>\n",
              "      <td>no</td>\n",
              "      <td>southeast</td>\n",
              "      <td>8240.58960</td>\n",
              "    </tr>\n",
              "    <tr>\n",
              "      <th>7</th>\n",
              "      <td>37</td>\n",
              "      <td>female</td>\n",
              "      <td>27.740</td>\n",
              "      <td>3</td>\n",
              "      <td>no</td>\n",
              "      <td>northwest</td>\n",
              "      <td>7281.50560</td>\n",
              "    </tr>\n",
              "    <tr>\n",
              "      <th>8</th>\n",
              "      <td>37</td>\n",
              "      <td>male</td>\n",
              "      <td>29.830</td>\n",
              "      <td>2</td>\n",
              "      <td>no</td>\n",
              "      <td>northeast</td>\n",
              "      <td>6406.41070</td>\n",
              "    </tr>\n",
              "    <tr>\n",
              "      <th>9</th>\n",
              "      <td>60</td>\n",
              "      <td>female</td>\n",
              "      <td>25.840</td>\n",
              "      <td>0</td>\n",
              "      <td>no</td>\n",
              "      <td>northwest</td>\n",
              "      <td>28923.13692</td>\n",
              "    </tr>\n",
              "  </tbody>\n",
              "</table>\n",
              "</div>"
            ],
            "text/plain": [
              "   age     sex     bmi  children smoker     region      charges\n",
              "0   19  female  27.900         0    yes  southwest  16884.92400\n",
              "1   18    male  33.770         1     no  southeast   1725.55230\n",
              "2   28    male  33.000         3     no  southeast   4449.46200\n",
              "3   33    male  22.705         0     no  northwest  21984.47061\n",
              "4   32    male  28.880         0     no  northwest   3866.85520\n",
              "5   31  female  25.740         0     no  southeast   3756.62160\n",
              "6   46  female  33.440         1     no  southeast   8240.58960\n",
              "7   37  female  27.740         3     no  northwest   7281.50560\n",
              "8   37    male  29.830         2     no  northeast   6406.41070\n",
              "9   60  female  25.840         0     no  northwest  28923.13692"
            ]
          },
          "metadata": {
            "tags": []
          },
          "execution_count": 2
        }
      ]
    },
    {
      "cell_type": "code",
      "metadata": {
        "id": "87wy2oLZJrkk",
        "colab_type": "code",
        "outputId": "1dc1697d-4a27-4305-c957-c954f979aa21",
        "colab": {
          "base_uri": "https://localhost:8080/",
          "height": 255
        }
      },
      "source": [
        "data.info()"
      ],
      "execution_count": 0,
      "outputs": [
        {
          "output_type": "stream",
          "text": [
            "<class 'pandas.core.frame.DataFrame'>\n",
            "RangeIndex: 1338 entries, 0 to 1337\n",
            "Data columns (total 7 columns):\n",
            " #   Column    Non-Null Count  Dtype  \n",
            "---  ------    --------------  -----  \n",
            " 0   age       1338 non-null   int64  \n",
            " 1   sex       1338 non-null   object \n",
            " 2   bmi       1338 non-null   float64\n",
            " 3   children  1338 non-null   int64  \n",
            " 4   smoker    1338 non-null   object \n",
            " 5   region    1338 non-null   object \n",
            " 6   charges   1338 non-null   float64\n",
            "dtypes: float64(2), int64(2), object(3)\n",
            "memory usage: 73.3+ KB\n"
          ],
          "name": "stdout"
        }
      ]
    },
    {
      "cell_type": "code",
      "metadata": {
        "id": "yqVQ9lGRKIkf",
        "colab_type": "code",
        "outputId": "7d8f3c97-ab34-4084-fcb5-13841b1985a0",
        "colab": {
          "base_uri": "https://localhost:8080/",
          "height": 238
        }
      },
      "source": [
        "print(data['sex'].value_counts(), end='\\n\\n')\n",
        "print(data['smoker'].value_counts(), end='\\n\\n')\n",
        "data['region'].value_counts()"
      ],
      "execution_count": 0,
      "outputs": [
        {
          "output_type": "stream",
          "text": [
            "male      676\n",
            "female    662\n",
            "Name: sex, dtype: int64\n",
            "\n",
            "no     1064\n",
            "yes     274\n",
            "Name: smoker, dtype: int64\n",
            "\n"
          ],
          "name": "stdout"
        },
        {
          "output_type": "execute_result",
          "data": {
            "text/plain": [
              "southeast    364\n",
              "southwest    325\n",
              "northwest    325\n",
              "northeast    324\n",
              "Name: region, dtype: int64"
            ]
          },
          "metadata": {
            "tags": []
          },
          "execution_count": 4
        }
      ]
    },
    {
      "cell_type": "markdown",
      "metadata": {
        "id": "EGpejIDmz6SV",
        "colab_type": "text"
      },
      "source": [
        "#### Data Processing\n",
        "Convert categorical data types to binary features"
      ]
    },
    {
      "cell_type": "code",
      "metadata": {
        "id": "ArOoCXYUKRTs",
        "colab_type": "code",
        "outputId": "e373a6e0-f6ff-4788-d8a0-4d02b490588d",
        "colab": {
          "base_uri": "https://localhost:8080/",
          "height": 359
        }
      },
      "source": [
        "sex_mapping = {'male': 0, 'female': 1}\n",
        "data['sex'] = data['sex'].map(sex_mapping)\n",
        "\n",
        "smoker_mapping = {'no': 0, 'yes': 1}\n",
        "data['smoker'] = data['smoker'].map(smoker_mapping)\n",
        "\n",
        "region_dummies = pd.get_dummies(data['region'], dummy_na=False)\n",
        "data = pd.concat([data, region_dummies], axis=1)\n",
        "data = data.drop(['region'], axis=1)\n",
        "data.head(10)"
      ],
      "execution_count": 0,
      "outputs": [
        {
          "output_type": "execute_result",
          "data": {
            "text/html": [
              "<div>\n",
              "<style scoped>\n",
              "    .dataframe tbody tr th:only-of-type {\n",
              "        vertical-align: middle;\n",
              "    }\n",
              "\n",
              "    .dataframe tbody tr th {\n",
              "        vertical-align: top;\n",
              "    }\n",
              "\n",
              "    .dataframe thead th {\n",
              "        text-align: right;\n",
              "    }\n",
              "</style>\n",
              "<table border=\"1\" class=\"dataframe\">\n",
              "  <thead>\n",
              "    <tr style=\"text-align: right;\">\n",
              "      <th></th>\n",
              "      <th>age</th>\n",
              "      <th>sex</th>\n",
              "      <th>bmi</th>\n",
              "      <th>children</th>\n",
              "      <th>smoker</th>\n",
              "      <th>charges</th>\n",
              "      <th>northeast</th>\n",
              "      <th>northwest</th>\n",
              "      <th>southeast</th>\n",
              "      <th>southwest</th>\n",
              "    </tr>\n",
              "  </thead>\n",
              "  <tbody>\n",
              "    <tr>\n",
              "      <th>0</th>\n",
              "      <td>19</td>\n",
              "      <td>1</td>\n",
              "      <td>27.900</td>\n",
              "      <td>0</td>\n",
              "      <td>1</td>\n",
              "      <td>16884.92400</td>\n",
              "      <td>0</td>\n",
              "      <td>0</td>\n",
              "      <td>0</td>\n",
              "      <td>1</td>\n",
              "    </tr>\n",
              "    <tr>\n",
              "      <th>1</th>\n",
              "      <td>18</td>\n",
              "      <td>0</td>\n",
              "      <td>33.770</td>\n",
              "      <td>1</td>\n",
              "      <td>0</td>\n",
              "      <td>1725.55230</td>\n",
              "      <td>0</td>\n",
              "      <td>0</td>\n",
              "      <td>1</td>\n",
              "      <td>0</td>\n",
              "    </tr>\n",
              "    <tr>\n",
              "      <th>2</th>\n",
              "      <td>28</td>\n",
              "      <td>0</td>\n",
              "      <td>33.000</td>\n",
              "      <td>3</td>\n",
              "      <td>0</td>\n",
              "      <td>4449.46200</td>\n",
              "      <td>0</td>\n",
              "      <td>0</td>\n",
              "      <td>1</td>\n",
              "      <td>0</td>\n",
              "    </tr>\n",
              "    <tr>\n",
              "      <th>3</th>\n",
              "      <td>33</td>\n",
              "      <td>0</td>\n",
              "      <td>22.705</td>\n",
              "      <td>0</td>\n",
              "      <td>0</td>\n",
              "      <td>21984.47061</td>\n",
              "      <td>0</td>\n",
              "      <td>1</td>\n",
              "      <td>0</td>\n",
              "      <td>0</td>\n",
              "    </tr>\n",
              "    <tr>\n",
              "      <th>4</th>\n",
              "      <td>32</td>\n",
              "      <td>0</td>\n",
              "      <td>28.880</td>\n",
              "      <td>0</td>\n",
              "      <td>0</td>\n",
              "      <td>3866.85520</td>\n",
              "      <td>0</td>\n",
              "      <td>1</td>\n",
              "      <td>0</td>\n",
              "      <td>0</td>\n",
              "    </tr>\n",
              "    <tr>\n",
              "      <th>5</th>\n",
              "      <td>31</td>\n",
              "      <td>1</td>\n",
              "      <td>25.740</td>\n",
              "      <td>0</td>\n",
              "      <td>0</td>\n",
              "      <td>3756.62160</td>\n",
              "      <td>0</td>\n",
              "      <td>0</td>\n",
              "      <td>1</td>\n",
              "      <td>0</td>\n",
              "    </tr>\n",
              "    <tr>\n",
              "      <th>6</th>\n",
              "      <td>46</td>\n",
              "      <td>1</td>\n",
              "      <td>33.440</td>\n",
              "      <td>1</td>\n",
              "      <td>0</td>\n",
              "      <td>8240.58960</td>\n",
              "      <td>0</td>\n",
              "      <td>0</td>\n",
              "      <td>1</td>\n",
              "      <td>0</td>\n",
              "    </tr>\n",
              "    <tr>\n",
              "      <th>7</th>\n",
              "      <td>37</td>\n",
              "      <td>1</td>\n",
              "      <td>27.740</td>\n",
              "      <td>3</td>\n",
              "      <td>0</td>\n",
              "      <td>7281.50560</td>\n",
              "      <td>0</td>\n",
              "      <td>1</td>\n",
              "      <td>0</td>\n",
              "      <td>0</td>\n",
              "    </tr>\n",
              "    <tr>\n",
              "      <th>8</th>\n",
              "      <td>37</td>\n",
              "      <td>0</td>\n",
              "      <td>29.830</td>\n",
              "      <td>2</td>\n",
              "      <td>0</td>\n",
              "      <td>6406.41070</td>\n",
              "      <td>1</td>\n",
              "      <td>0</td>\n",
              "      <td>0</td>\n",
              "      <td>0</td>\n",
              "    </tr>\n",
              "    <tr>\n",
              "      <th>9</th>\n",
              "      <td>60</td>\n",
              "      <td>1</td>\n",
              "      <td>25.840</td>\n",
              "      <td>0</td>\n",
              "      <td>0</td>\n",
              "      <td>28923.13692</td>\n",
              "      <td>0</td>\n",
              "      <td>1</td>\n",
              "      <td>0</td>\n",
              "      <td>0</td>\n",
              "    </tr>\n",
              "  </tbody>\n",
              "</table>\n",
              "</div>"
            ],
            "text/plain": [
              "   age  sex     bmi  children  ...  northeast  northwest  southeast  southwest\n",
              "0   19    1  27.900         0  ...          0          0          0          1\n",
              "1   18    0  33.770         1  ...          0          0          1          0\n",
              "2   28    0  33.000         3  ...          0          0          1          0\n",
              "3   33    0  22.705         0  ...          0          1          0          0\n",
              "4   32    0  28.880         0  ...          0          1          0          0\n",
              "5   31    1  25.740         0  ...          0          0          1          0\n",
              "6   46    1  33.440         1  ...          0          0          1          0\n",
              "7   37    1  27.740         3  ...          0          1          0          0\n",
              "8   37    0  29.830         2  ...          1          0          0          0\n",
              "9   60    1  25.840         0  ...          0          1          0          0\n",
              "\n",
              "[10 rows x 10 columns]"
            ]
          },
          "metadata": {
            "tags": []
          },
          "execution_count": 5
        }
      ]
    },
    {
      "cell_type": "markdown",
      "metadata": {
        "id": "rMcH6xvQ115U",
        "colab_type": "text"
      },
      "source": [
        "#### Analysis Data"
      ]
    },
    {
      "cell_type": "code",
      "metadata": {
        "id": "b2uDFwiyHz7p",
        "colab_type": "code",
        "outputId": "24efc1cd-dc70-499d-c603-acb9dca4fc5a",
        "colab": {
          "base_uri": "https://localhost:8080/",
          "height": 328
        }
      },
      "source": [
        "corr_matrix = data.corr()\n",
        "sn.heatmap(corr_matrix, annot=True, fmt=\".1f\")"
      ],
      "execution_count": 0,
      "outputs": [
        {
          "output_type": "execute_result",
          "data": {
            "text/plain": [
              "<matplotlib.axes._subplots.AxesSubplot at 0x7ff32a43f358>"
            ]
          },
          "metadata": {
            "tags": []
          },
          "execution_count": 6
        },
        {
          "output_type": "display_data",
          "data": {
            "image/png": "[encoded data removed]",
            "text/plain": [
              "<Figure size 432x288 with 2 Axes>"
            ]
          },
          "metadata": {
            "tags": [],
            "needs_background": "light"
          }
        }
      ]
    },
    {
      "cell_type": "code",
      "metadata": {
        "id": "u3jpKkJ0mPUQ",
        "colab_type": "code",
        "outputId": "1fdd51d9-60ce-4cef-def8-c9f02863f8a2",
        "colab": {
          "base_uri": "https://localhost:8080/",
          "height": 204
        }
      },
      "source": [
        "corr_matrix['charges'].sort_values(ascending=False)"
      ],
      "execution_count": 0,
      "outputs": [
        {
          "output_type": "execute_result",
          "data": {
            "text/plain": [
              "charges      1.000000\n",
              "smoker       0.787251\n",
              "age          0.299008\n",
              "bmi          0.198341\n",
              "southeast    0.073982\n",
              "children     0.067998\n",
              "northeast    0.006349\n",
              "northwest   -0.039905\n",
              "southwest   -0.043210\n",
              "sex         -0.057292\n",
              "Name: charges, dtype: float64"
            ]
          },
          "metadata": {
            "tags": []
          },
          "execution_count": 7
        }
      ]
    },
    {
      "cell_type": "markdown",
      "metadata": {
        "id": "5O6tJ45Q4KuD",
        "colab_type": "text"
      },
      "source": [
        "A strong correlation is observed only with the fact of smoking."
      ]
    },
    {
      "cell_type": "code",
      "metadata": {
        "id": "DeF4o8vF4pcn",
        "colab_type": "code",
        "outputId": "829437e1-e947-457d-dd25-5deb3fe06bec",
        "colab": {
          "base_uri": "https://localhost:8080/",
          "height": 367
        }
      },
      "source": [
        "f = plt.figure(figsize=(15, 5))\n",
        "ax = f.add_subplot(121)\n",
        "sn.distplot(data[(data.smoker == 1)][\"charges\"], color='g', ax=ax)\n",
        "ax.set_title('Distribution of charges for smokers')\n",
        "\n",
        "ax = f.add_subplot(122)\n",
        "sn.distplot(data[(data.smoker == 0)]['charges'], color='b', ax=ax)\n",
        "ax.set_title('Distribution of charges for non-smokers')"
      ],
      "execution_count": 0,
      "outputs": [
        {
          "output_type": "execute_result",
          "data": {
            "text/plain": [
              "Text(0.5, 1.0, 'Distribution of charges for non-smokers')"
            ]
          },
          "metadata": {
            "tags": []
          },
          "execution_count": 8
        },
        {
          "output_type": "display_data",
          "data": {
            "image/png": "[encoded data removed]",
            "text/plain": [
              "<Figure size 1080x360 with 2 Axes>"
            ]
          },
          "metadata": {
            "tags": [],
            "needs_background": "light"
          }
        }
      ]
    },
    {
      "cell_type": "markdown",
      "metadata": {
        "id": "D-4Dxnnc6619",
        "colab_type": "text"
      },
      "source": [
        "Smokers spend more on insurance."
      ]
    },
    {
      "cell_type": "code",
      "metadata": {
        "id": "PtrfexERH2gA",
        "colab_type": "code",
        "outputId": "a4f766d1-20f8-4930-80ef-8b1ff24a8bba",
        "colab": {
          "base_uri": "https://localhost:8080/",
          "height": 602
        }
      },
      "source": [
        "sn.lmplot(data=data, x=\"age\", y=\"charges\", hue=\"smoker\", palette='Set1', height=8)"
      ],
      "execution_count": 0,
      "outputs": [
        {
          "output_type": "execute_result",
          "data": {
            "text/plain": [
              "<seaborn.axisgrid.FacetGrid at 0x7ff326805c50>"
            ]
          },
          "metadata": {
            "tags": []
          },
          "execution_count": 9
        },
        {
          "output_type": "display_data",
          "data": {
            "image/png": "[encoded data removed]",
            "text/plain": [
              "<Figure size 620.5x576 with 1 Axes>"
            ]
          },
          "metadata": {
            "tags": [],
            "needs_background": "light"
          }
        }
      ]
    },
    {
      "cell_type": "markdown",
      "metadata": {
        "id": "jaU_wbO2_lTi",
        "colab_type": "text"
      },
      "source": [
        "In non-smokers there costs increase with age. Smoking people have no such dependence."
      ]
    },
    {
      "cell_type": "code",
      "metadata": {
        "id": "eS25woE_H4fy",
        "colab_type": "code",
        "outputId": "0551862d-4d88-4415-848e-c9188fa2ad38",
        "colab": {
          "base_uri": "https://localhost:8080/",
          "height": 204
        }
      },
      "source": [
        "X = data\n",
        "X = X.drop(['charges'], axis=1)\n",
        "y = data['charges']\n",
        "X.head()"
      ],
      "execution_count": 0,
      "outputs": [
        {
          "output_type": "execute_result",
          "data": {
            "text/html": [
              "<div>\n",
              "<style scoped>\n",
              "    .dataframe tbody tr th:only-of-type {\n",
              "        vertical-align: middle;\n",
              "    }\n",
              "\n",
              "    .dataframe tbody tr th {\n",
              "        vertical-align: top;\n",
              "    }\n",
              "\n",
              "    .dataframe thead th {\n",
              "        text-align: right;\n",
              "    }\n",
              "</style>\n",
              "<table border=\"1\" class=\"dataframe\">\n",
              "  <thead>\n",
              "    <tr style=\"text-align: right;\">\n",
              "      <th></th>\n",
              "      <th>age</th>\n",
              "      <th>sex</th>\n",
              "      <th>bmi</th>\n",
              "      <th>children</th>\n",
              "      <th>smoker</th>\n",
              "      <th>northeast</th>\n",
              "      <th>northwest</th>\n",
              "      <th>southeast</th>\n",
              "      <th>southwest</th>\n",
              "    </tr>\n",
              "  </thead>\n",
              "  <tbody>\n",
              "    <tr>\n",
              "      <th>0</th>\n",
              "      <td>19</td>\n",
              "      <td>1</td>\n",
              "      <td>27.900</td>\n",
              "      <td>0</td>\n",
              "      <td>1</td>\n",
              "      <td>0</td>\n",
              "      <td>0</td>\n",
              "      <td>0</td>\n",
              "      <td>1</td>\n",
              "    </tr>\n",
              "    <tr>\n",
              "      <th>1</th>\n",
              "      <td>18</td>\n",
              "      <td>0</td>\n",
              "      <td>33.770</td>\n",
              "      <td>1</td>\n",
              "      <td>0</td>\n",
              "      <td>0</td>\n",
              "      <td>0</td>\n",
              "      <td>1</td>\n",
              "      <td>0</td>\n",
              "    </tr>\n",
              "    <tr>\n",
              "      <th>2</th>\n",
              "      <td>28</td>\n",
              "      <td>0</td>\n",
              "      <td>33.000</td>\n",
              "      <td>3</td>\n",
              "      <td>0</td>\n",
              "      <td>0</td>\n",
              "      <td>0</td>\n",
              "      <td>1</td>\n",
              "      <td>0</td>\n",
              "    </tr>\n",
              "    <tr>\n",
              "      <th>3</th>\n",
              "      <td>33</td>\n",
              "      <td>0</td>\n",
              "      <td>22.705</td>\n",
              "      <td>0</td>\n",
              "      <td>0</td>\n",
              "      <td>0</td>\n",
              "      <td>1</td>\n",
              "      <td>0</td>\n",
              "      <td>0</td>\n",
              "    </tr>\n",
              "    <tr>\n",
              "      <th>4</th>\n",
              "      <td>32</td>\n",
              "      <td>0</td>\n",
              "      <td>28.880</td>\n",
              "      <td>0</td>\n",
              "      <td>0</td>\n",
              "      <td>0</td>\n",
              "      <td>1</td>\n",
              "      <td>0</td>\n",
              "      <td>0</td>\n",
              "    </tr>\n",
              "  </tbody>\n",
              "</table>\n",
              "</div>"
            ],
            "text/plain": [
              "   age  sex     bmi  children  ...  northeast  northwest  southeast  southwest\n",
              "0   19    1  27.900         0  ...          0          0          0          1\n",
              "1   18    0  33.770         1  ...          0          0          1          0\n",
              "2   28    0  33.000         3  ...          0          0          1          0\n",
              "3   33    0  22.705         0  ...          0          1          0          0\n",
              "4   32    0  28.880         0  ...          0          1          0          0\n",
              "\n",
              "[5 rows x 9 columns]"
            ]
          },
          "metadata": {
            "tags": []
          },
          "execution_count": 10
        }
      ]
    },
    {
      "cell_type": "code",
      "metadata": {
        "id": "l8wCF3U1H5tD",
        "colab_type": "code",
        "colab": {}
      },
      "source": [
        "X_train, X_test, y_train, y_test = train_test_split(X.to_numpy(), y.to_numpy(), test_size=0.33, random_state=42)"
      ],
      "execution_count": 0,
      "outputs": []
    },
    {
      "cell_type": "markdown",
      "metadata": {
        "id": "FSRYl9oUATSs",
        "colab_type": "text"
      },
      "source": [
        "####First, using usual  linear regression"
      ]
    },
    {
      "cell_type": "code",
      "metadata": {
        "id": "CS5BBMtfrof7",
        "colab_type": "code",
        "outputId": "82e33ba6-721e-49e2-e7f0-403f8ff6a964",
        "colab": {
          "base_uri": "https://localhost:8080/",
          "height": 51
        }
      },
      "source": [
        "line_model = LinearRegression().fit(X_train, y_train)\n",
        "line_predict =  line_model.predict(X_test)\n",
        "print('MAE =', mean_absolute_error(y_test, line_predict))\n",
        "print('MSE =', mean_squared_error(y_test, line_predict))"
      ],
      "execution_count": 0,
      "outputs": [
        {
          "output_type": "stream",
          "text": [
            "MAE = 4193.463021932147\n",
            "MSE = 35090225.72562567\n"
          ],
          "name": "stdout"
        }
      ]
    },
    {
      "cell_type": "code",
      "metadata": {
        "id": "oKSBS6aKDlzl",
        "colab_type": "code",
        "outputId": "47bbb859-ad4b-4b9a-d51e-986e5616176a",
        "colab": {
          "base_uri": "https://localhost:8080/",
          "height": 328
        }
      },
      "source": [
        "pd.DataFrame(line_model.coef_, X.columns, columns=['coefficient'])"
      ],
      "execution_count": 0,
      "outputs": [
        {
          "output_type": "execute_result",
          "data": {
            "text/html": [
              "<div>\n",
              "<style scoped>\n",
              "    .dataframe tbody tr th:only-of-type {\n",
              "        vertical-align: middle;\n",
              "    }\n",
              "\n",
              "    .dataframe tbody tr th {\n",
              "        vertical-align: top;\n",
              "    }\n",
              "\n",
              "    .dataframe thead th {\n",
              "        text-align: right;\n",
              "    }\n",
              "</style>\n",
              "<table border=\"1\" class=\"dataframe\">\n",
              "  <thead>\n",
              "    <tr style=\"text-align: right;\">\n",
              "      <th></th>\n",
              "      <th>coefficient</th>\n",
              "    </tr>\n",
              "  </thead>\n",
              "  <tbody>\n",
              "    <tr>\n",
              "      <th>age</th>\n",
              "      <td>261.568395</td>\n",
              "    </tr>\n",
              "    <tr>\n",
              "      <th>sex</th>\n",
              "      <td>-121.123686</td>\n",
              "    </tr>\n",
              "    <tr>\n",
              "      <th>bmi</th>\n",
              "      <td>347.097290</td>\n",
              "    </tr>\n",
              "    <tr>\n",
              "      <th>children</th>\n",
              "      <td>371.762169</td>\n",
              "    </tr>\n",
              "    <tr>\n",
              "      <th>smoker</th>\n",
              "      <td>23700.983287</td>\n",
              "    </tr>\n",
              "    <tr>\n",
              "      <th>northeast</th>\n",
              "      <td>507.500691</td>\n",
              "    </tr>\n",
              "    <tr>\n",
              "      <th>northwest</th>\n",
              "      <td>167.882295</td>\n",
              "    </tr>\n",
              "    <tr>\n",
              "      <th>southeast</th>\n",
              "      <td>-378.998890</td>\n",
              "    </tr>\n",
              "    <tr>\n",
              "      <th>southwest</th>\n",
              "      <td>-296.384097</td>\n",
              "    </tr>\n",
              "  </tbody>\n",
              "</table>\n",
              "</div>"
            ],
            "text/plain": [
              "            coefficient\n",
              "age          261.568395\n",
              "sex         -121.123686\n",
              "bmi          347.097290\n",
              "children     371.762169\n",
              "smoker     23700.983287\n",
              "northeast    507.500691\n",
              "northwest    167.882295\n",
              "southeast   -378.998890\n",
              "southwest   -296.384097"
            ]
          },
          "metadata": {
            "tags": []
          },
          "execution_count": 13
        }
      ]
    },
    {
      "cell_type": "markdown",
      "metadata": {
        "id": "k5VBqkpUDkxM",
        "colab_type": "text"
      },
      "source": [
        "Smoking is the most influential factor."
      ]
    },
    {
      "cell_type": "markdown",
      "metadata": {
        "id": "6-tvIF7NBSx6",
        "colab_type": "text"
      },
      "source": [
        "#### Using ExtraTreeRegressor"
      ]
    },
    {
      "cell_type": "code",
      "metadata": {
        "id": "zpAKXNt1H8fR",
        "colab_type": "code",
        "outputId": "eb1fd914-4f48-49d6-ba45-96e698a22add",
        "colab": {
          "base_uri": "https://localhost:8080/",
          "height": 51
        }
      },
      "source": [
        "tree_model = ExtraTreeRegressor().fit(X_train, y_train)\n",
        "tree_predit =  tree_model.predict(X_test)\n",
        "print('MAE =', mean_absolute_error(y_test, tree_predit))\n",
        "print('MSE =', mean_squared_error(y_test, tree_predit))"
      ],
      "execution_count": 0,
      "outputs": [
        {
          "output_type": "stream",
          "text": [
            "MAE = 3020.8505521923075\n",
            "MSE = 38878230.19009047\n"
          ],
          "name": "stdout"
        }
      ]
    },
    {
      "cell_type": "markdown",
      "metadata": {
        "id": "zHhOU3w6Bh58",
        "colab_type": "text"
      },
      "source": [
        "#### Using NN"
      ]
    },
    {
      "cell_type": "code",
      "metadata": {
        "id": "UGR_hyOwV0KA",
        "colab_type": "code",
        "colab": {}
      },
      "source": [
        "model = Sequential()\n",
        "model.add(Dense(200, activation='relu', input_shape=(X_train.shape[1],)))\n",
        "model.add(Dense(1))\n",
        "model.compile(optimizer='adam', loss='mse', metrics=['mae'])"
      ],
      "execution_count": 0,
      "outputs": []
    },
    {
      "cell_type": "code",
      "metadata": {
        "id": "twtngkt0Xt2D",
        "colab_type": "code",
        "outputId": "855fdf0e-a592-4a83-b50a-c7fd0fcf63c1",
        "colab": {
          "base_uri": "https://localhost:8080/",
          "height": 1000
        }
      },
      "source": [
        "model.fit(X_train, y_train, epochs=200, batch_size=50, verbose=1)"
      ],
      "execution_count": 0,
      "outputs": [
        {
          "output_type": "stream",
          "text": [
            "Epoch 1/200\n",
            "18/18 [==============================] - 0s 2ms/step - loss: 325393184.0000 - mae: 13375.0000\n",
            "Epoch 2/200\n",
            "18/18 [==============================] - 0s 2ms/step - loss: 324843296.0000 - mae: 13355.8779\n",
            "Epoch 3/200\n",
            "18/18 [==============================] - 0s 2ms/step - loss: 324229376.0000 - mae: 13333.9541\n",
            "Epoch 4/200\n",
            "18/18 [==============================] - 0s 2ms/step - loss: 323458144.0000 - mae: 13306.8887\n",
            "Epoch 5/200\n",
            "18/18 [==============================] - 0s 2ms/step - loss: 322495296.0000 - mae: 13273.3652\n",
            "Epoch 6/200\n",
            "18/18 [==============================] - 0s 2ms/step - loss: 321354144.0000 - mae: 13232.5244\n",
            "Epoch 7/200\n",
            "18/18 [==============================] - 0s 2ms/step - loss: 319981984.0000 - mae: 13183.8701\n",
            "Epoch 8/200\n",
            "18/18 [==============================] - 0s 2ms/step - loss: 318385728.0000 - mae: 13126.7354\n",
            "Epoch 9/200\n",
            "18/18 [==============================] - 0s 2ms/step - loss: 316512768.0000 - mae: 13061.1006\n",
            "Epoch 10/200\n",
            "18/18 [==============================] - 0s 2ms/step - loss: 314462720.0000 - mae: 12985.9355\n",
            "Epoch 11/200\n",
            "18/18 [==============================] - 0s 2ms/step - loss: 312088928.0000 - mae: 12902.3486\n",
            "Epoch 12/200\n",
            "18/18 [==============================] - 0s 2ms/step - loss: 309596160.0000 - mae: 12808.6924\n",
            "Epoch 13/200\n",
            "18/18 [==============================] - 0s 2ms/step - loss: 306758976.0000 - mae: 12706.6045\n",
            "Epoch 14/200\n",
            "18/18 [==============================] - 0s 2ms/step - loss: 303770784.0000 - mae: 12595.4766\n",
            "Epoch 15/200\n",
            "18/18 [==============================] - 0s 2ms/step - loss: 300516416.0000 - mae: 12475.0029\n",
            "Epoch 16/200\n",
            "18/18 [==============================] - 0s 3ms/step - loss: 297050304.0000 - mae: 12345.3613\n",
            "Epoch 17/200\n",
            "18/18 [==============================] - 0s 2ms/step - loss: 293453856.0000 - mae: 12206.4404\n",
            "Epoch 18/200\n",
            "18/18 [==============================] - 0s 2ms/step - loss: 289593408.0000 - mae: 12058.6729\n",
            "Epoch 19/200\n",
            "18/18 [==============================] - 0s 2ms/step - loss: 285579968.0000 - mae: 11904.9346\n",
            "Epoch 20/200\n",
            "18/18 [==============================] - 0s 2ms/step - loss: 281490144.0000 - mae: 11742.5537\n",
            "Epoch 21/200\n",
            "18/18 [==============================] - 0s 2ms/step - loss: 277177664.0000 - mae: 11573.1865\n",
            "Epoch 22/200\n",
            "18/18 [==============================] - 0s 2ms/step - loss: 272754848.0000 - mae: 11399.4238\n",
            "Epoch 23/200\n",
            "18/18 [==============================] - 0s 2ms/step - loss: 268274608.0000 - mae: 11219.8955\n",
            "Epoch 24/200\n",
            "18/18 [==============================] - 0s 2ms/step - loss: 263654656.0000 - mae: 11037.8105\n",
            "Epoch 25/200\n",
            "18/18 [==============================] - 0s 2ms/step - loss: 259029648.0000 - mae: 10848.0957\n",
            "Epoch 26/200\n",
            "18/18 [==============================] - 0s 2ms/step - loss: 254265424.0000 - mae: 10659.8525\n",
            "Epoch 27/200\n",
            "18/18 [==============================] - 0s 2ms/step - loss: 249511792.0000 - mae: 10474.2529\n",
            "Epoch 28/200\n",
            "18/18 [==============================] - 0s 2ms/step - loss: 244639072.0000 - mae: 10288.0518\n",
            "Epoch 29/200\n",
            "18/18 [==============================] - 0s 2ms/step - loss: 239841104.0000 - mae: 10102.2402\n",
            "Epoch 30/200\n",
            "18/18 [==============================] - 0s 2ms/step - loss: 235023760.0000 - mae: 9916.1787\n",
            "Epoch 31/200\n",
            "18/18 [==============================] - 0s 2ms/step - loss: 230162384.0000 - mae: 9727.5137\n",
            "Epoch 32/200\n",
            "18/18 [==============================] - 0s 2ms/step - loss: 225419552.0000 - mae: 9546.5879\n",
            "Epoch 33/200\n",
            "18/18 [==============================] - 0s 2ms/step - loss: 220677280.0000 - mae: 9362.0137\n",
            "Epoch 34/200\n",
            "18/18 [==============================] - 0s 2ms/step - loss: 215957248.0000 - mae: 9184.8447\n",
            "Epoch 35/200\n",
            "18/18 [==============================] - 0s 2ms/step - loss: 211334128.0000 - mae: 9011.3145\n",
            "Epoch 36/200\n",
            "18/18 [==============================] - 0s 2ms/step - loss: 206844704.0000 - mae: 8846.4326\n",
            "Epoch 37/200\n",
            "18/18 [==============================] - 0s 2ms/step - loss: 202404784.0000 - mae: 8694.0303\n",
            "Epoch 38/200\n",
            " 1/18 [>.............................] - ETA: 0s - loss: 247232800.0000 - mae: 10211.4521"
          ],
          "name": "stdout"
        }
      ]
    },
    {
      "cell_type": "code",
      "metadata": {
        "id": "-vMAy4mqXvf_",
        "colab_type": "code",
        "outputId": "231f121e-26c0-4078-b719-040be4ac800f",
        "colab": {
          "base_uri": "https://localhost:8080/",
          "height": 51
        }
      },
      "source": [
        "mse, mae = model.evaluate(X_test, y_test, verbose=0)\n",
        "model_predict = model.predict(X_test)\n",
        "print('MAE =', mae)\n",
        "print('MAE =', mse)"
      ],
      "execution_count": 0,
      "outputs": [
        {
          "output_type": "stream",
          "text": [
            "MAE = 8969.853515625\n",
            "MAE = 123304248.0\n"
          ],
          "name": "stdout"
        }
      ]
    },
    {
      "cell_type": "markdown",
      "metadata": {
        "id": "kKuPUDrdCZ7h",
        "colab_type": "text"
      },
      "source": [
        "####Conclusion\n",
        "LinearRegression based model shows better convergence. You can, of course, apply data normalization or standardization, but on such a small data set it will not work. The most influential factors are patient smoking."
      ]
    }
  ]
}